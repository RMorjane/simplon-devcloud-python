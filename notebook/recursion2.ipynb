{
 "cells": [
  {
   "cell_type": "code",
   "execution_count": 9,
   "metadata": {},
   "outputs": [
    {
     "name": "stdout",
     "output_type": "stream",
     "text": [
      "regnam\n"
     ]
    }
   ],
   "source": [
    "'''\n",
    "Définir une fonction récursive qui détermine l'inverse d'une chaîne de caractères s.\n",
    "\n",
    "En utilisant la fonction récursive précédente, \n",
    "définir une fonction qui teste si une chaîne de caractères est un palindrome.\n",
    "'''\n",
    "def reverse(s,r=\"\"):\n",
    "    if len(s) > 0:\n",
    "        r += s[len(s)-1]\n",
    "        return reverse(s[:len(s)-1],r)\n",
    "    else:\n",
    "        return r\n",
    "        \n",
    "s = \"manger\"\n",
    "r = reverse(s)\n",
    "#print(r)\n",
    "\n"
   ]
  },
  {
   "cell_type": "code",
   "execution_count": null,
   "metadata": {},
   "outputs": [],
   "source": [
    "'''\n",
    "Définir une fonction récursive recherche(t,x,d,f) qui retourne le rang de la première occurrence de x\n",
    "dans la séquence t entre les indices d inclus et f exclu, -1 si pas d'occurrence de x dans t.\n",
    "\n",
    "Proposer une version itérative de la recherche séquentielle.\n",
    "\n",
    "Vérifier le fonctionnement des fonctions précédentes avec l'appel prédéfini t.index(x,d,f) qui retourne le rang de la première occurrence de x dans la séquence t si x est dans t.\n",
    "'''"
   ]
  },
  {
   "cell_type": "code",
   "execution_count": 12,
   "metadata": {},
   "outputs": [
    {
     "name": "stdout",
     "output_type": "stream",
     "text": [
      "[1, 2, 3, 4, 5, 6, 7, 8, 9, 10, 11, 12, 13, 14, 15, 16, 17, 18, 19, 20]\n",
      "position trouvée :  14\n"
     ]
    }
   ],
   "source": [
    "'''\n",
    "Définir une fonction récursive recherche_dichotomique(t,x,d,f) qui retourne le rang de la première\n",
    "occurrence de x dans la séquence déjà triée par ordre croissant t entre les indices d inclus et f exclu,\n",
    "-1 si pas d'occurrence de x dans t.\n",
    "\n",
    "On utilisera une méthode par dichotomie pour profiter du fait que la liste t est triée.\n",
    "\n",
    "Proposer une version itérative de la recherche dichotomique.\n",
    "\n",
    "Vérifier le fonctionnement des fonctions précédentes avec l'appel prédéfini t.index(x,d,f) qui retourne le rang de la première occurrence de x dans la séquence t si x est dans t.\n",
    "'''\n",
    "def dichotomie(t,x,p=0):\n",
    "    if x in t:\n",
    "        if t[p]<x:\n",
    "            p = p + (len(t)-p)//2\n",
    "            return dichotomie(t,x,p)\n",
    "        elif t[p]>x:\n",
    "            t = t[:p]\n",
    "            p = p//2\n",
    "            return dichotomie(t,x,p)\n",
    "        elif t[p]==x:\n",
    "            return p\n",
    "    else:\n",
    "        return -1\n",
    "\n",
    "tab = [i for i in range(1,21)]\n",
    "print(tab)\n",
    "pos = dichotomie(tab[:],15)\n",
    "print(\"position trouvée : \",pos)"
   ]
  },
  {
   "cell_type": "code",
   "execution_count": 4,
   "metadata": {},
   "outputs": [
    {
     "data": {
      "text/plain": [
       "\"\\nLe tri par sélection d'une liste consiste à rechercher le minimum de la liste à trier,\\nde le mettre en début de liste en l'échangeant avec le premier élémentet de recommencer \\nur le reste de la liste.\\n\\n\\nDéfinir une fonction récursive qui détermine le minimum de la liste t \\nentre les indices d inclus et f exclu.\\n\\nDéfinir une fonction récursive tri_selection(t,d,f) qui trie « sur place » la liste t par\\nordre croissant entre les indices d inclus et f exclu.\\n\\nProposer une version itérative du minimum et du tri par sélection.\\n\\nVérifier le fonctionnement des fonctions précédentes avec les appels prédéfinis min(t) qui retourne le minimum de la liste t et t.sort() qui trie la liste t « sur place ».\\n\""
      ]
     },
     "execution_count": 4,
     "metadata": {},
     "output_type": "execute_result"
    }
   ],
   "source": [
    "'''\n",
    "Le tri par sélection d'une liste consiste à rechercher le minimum de la liste à trier,\n",
    "de le mettre en début de liste en l'échangeant avec le premier élémentet de recommencer \n",
    "ur le reste de la liste.\n",
    "\n",
    "\n",
    "Définir une fonction récursive qui détermine le minimum de la liste t \n",
    "entre les indices d inclus et f exclu.\n",
    "\n",
    "Définir une fonction récursive tri_selection(t,d,f) qui trie « sur place » la liste t par\n",
    "ordre croissant entre les indices d inclus et f exclu.\n",
    "\n",
    "Proposer une version itérative du minimum et du tri par sélection.\n",
    "\n",
    "Vérifier le fonctionnement des fonctions précédentes avec les appels prédéfinis min(t) qui retourne le minimum de la liste t et t.sort() qui trie la liste t « sur place ».\n",
    "'''"
   ]
  },
  {
   "cell_type": "code",
   "execution_count": null,
   "metadata": {},
   "outputs": [],
   "source": []
  },
  {
   "cell_type": "code",
   "execution_count": null,
   "metadata": {},
   "outputs": [],
   "source": []
  },
  {
   "cell_type": "code",
   "execution_count": null,
   "metadata": {},
   "outputs": [],
   "source": []
  }
 ],
 "metadata": {
  "kernelspec": {
   "display_name": "Python 3",
   "language": "python",
   "name": "python3"
  },
  "language_info": {
   "codemirror_mode": {
    "name": "ipython",
    "version": 3
   },
   "file_extension": ".py",
   "mimetype": "text/x-python",
   "name": "python",
   "nbconvert_exporter": "python",
   "pygments_lexer": "ipython3",
   "version": "3.8.5"
  }
 },
 "nbformat": 4,
 "nbformat_minor": 2
}
