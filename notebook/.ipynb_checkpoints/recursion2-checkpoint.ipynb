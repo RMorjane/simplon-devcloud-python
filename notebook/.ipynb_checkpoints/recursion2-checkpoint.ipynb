{
 "cells": [
  {
   "cell_type": "code",
   "execution_count": null,
   "metadata": {},
   "outputs": [],
   "source": [
    "'''\n",
    "Définir une fonction récursive qui détermine l'inverse d'une chaîne de caractères s.\n",
    "\n",
    "En utilisant la fonction récursive précédente, \n",
    "définir une fonction qui teste si une chaîne de caractères est un palindrome.\n",
    "'''\n",
    "def reverse(s):\n",
    "    "
   ]
  },
  {
   "cell_type": "code",
   "execution_count": null,
   "metadata": {},
   "outputs": [],
   "source": [
    "'''\n",
    "Définir une fonction récursive recherche(t,x,d,f) qui retourne le rang de la première occurrence de x\n",
    "dans la séquence t entre les indices d inclus et f exclu, -1 si pas d'occurrence de x dans t.\n",
    "\n",
    "Proposer une version itérative de la recherche séquentielle.\n",
    "\n",
    "Vérifier le fonctionnement des fonctions précédentes avec l'appel prédéfini t.index(x,d,f) qui retourne le rang de la première occurrence de x dans la séquence t si x est dans t.\n",
    "'''"
   ]
  },
  {
   "cell_type": "code",
   "execution_count": null,
   "metadata": {},
   "outputs": [],
   "source": [
    "'''\n",
    "Définir une fonction récursive recherche_dichotomique(t,x,d,f) qui retourne le rang de la première\n",
    "occurrence de x dans la séquence déjà triée par ordre croissant t entre les indices d inclus et f exclu,\n",
    "-1 si pas d'occurrence de x dans t.\n",
    "\n",
    "On utilisera une méthode par dichotomie pour profiter du fait que la liste t est triée.\n",
    "\n",
    "Proposer une version itérative de la recherche dichotomique.\n",
    "\n",
    "Vérifier le fonctionnement des fonctions précédentes avec l'appel prédéfini t.index(x,d,f) qui retourne le rang de la première occurrence de x dans la séquence t si x est dans t.\n",
    "'''"
   ]
  },
  {
   "cell_type": "code",
   "execution_count": null,
   "metadata": {},
   "outputs": [],
   "source": [
    "'''\n",
    "Le tri par sélection d'une liste consiste à rechercher le minimum de la liste à trier,\n",
    "de le mettre en début de liste en l'échangeant avec le premier élémentet de recommencer \n",
    "ur le reste de la liste.\n",
    "\n",
    "\n",
    "Définir une fonction récursive qui détermine le minimum de la liste t \n",
    "entre les indices d inclus et f exclu.\n",
    "\n",
    "Définir une fonction récursive tri_selection(t,d,f) qui trie « sur place » la liste t par\n",
    "ordre croissant entre les indices d inclus et f exclu.\n",
    "\n",
    "Proposer une version itérative du minimum et du tri par sélection.\n",
    "\n",
    "Vérifier le fonctionnement des fonctions précédentes avec les appels prédéfinis min(t) qui retourne le minimum de la liste t et t.sort() qui trie la liste t « sur place ».\n",
    "'''"
   ]
  },
  {
   "cell_type": "code",
   "execution_count": null,
   "metadata": {},
   "outputs": [],
   "source": []
  },
  {
   "cell_type": "code",
   "execution_count": null,
   "metadata": {},
   "outputs": [],
   "source": []
  },
  {
   "cell_type": "code",
   "execution_count": null,
   "metadata": {},
   "outputs": [],
   "source": []
  }
 ],
 "metadata": {
  "kernelspec": {
   "display_name": "Python 3",
   "language": "python",
   "name": "python3"
  },
  "language_info": {
   "codemirror_mode": {
    "name": "ipython",
    "version": 3
   },
   "file_extension": ".py",
   "mimetype": "text/x-python",
   "name": "python",
   "nbconvert_exporter": "python",
   "pygments_lexer": "ipython3",
   "version": "3.8.5"
  }
 },
 "nbformat": 4,
 "nbformat_minor": 2
}
