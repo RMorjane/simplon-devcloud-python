{
 "cells": [
  {
   "cell_type": "code",
   "execution_count": null,
   "metadata": {},
   "outputs": [],
   "source": [
    "'''\n",
    "We can define the sum from 1 to x (i.e. 1 + 2 + ... + x)\n",
    "recursively as follows for integer x ≥ 1:\n",
    "1, if x = 1\n",
    "x + sum from 1 to x-1 if x > 1\n",
    "Complete the following Python program to compute the sum\n",
    "1 + 2 + 3 + 4 + 5 + 6 + 7 + 8 + 9 + 10 recursively\n",
    "'''\n"
   ]
  },
  {
   "cell_type": "code",
   "execution_count": null,
   "metadata": {},
   "outputs": [],
   "source": [
    "'''\n",
    "We can determine how many digits a positive integer has by\n",
    "repeatedly dividing by 10 (without keeping the remainder) until the\n",
    "number is less than 10, consisting of only 1 digit. We add 1 to this\n",
    "value for each time we divided by 10. Here is the recursive\n",
    "algorithm\n",
    "1. If n < 10 return 1.\n",
    "2. Otherwise, return 1 + the number of digits in\n",
    "n/10 (ignoring the fractional part).\n",
    "\n",
    "Implement this recursive algorithm in Python\n",
    "'''"
   ]
  },
  {
   "cell_type": "code",
   "execution_count": null,
   "metadata": {},
   "outputs": [],
   "source": [
    "'''\n",
    "same here\n",
    "\n",
    "def fun(x):\n",
    "     \n",
    "    if(x > 0):\n",
    "        x -= 1\n",
    "        fun(x) \n",
    "        print(x , end=\" \")\n",
    "        x -= 1\n",
    "        fun(x) \n",
    "        \n",
    "'''"
   ]
  },
  {
   "cell_type": "code",
   "execution_count": null,
   "metadata": {},
   "outputs": [],
   "source": [
    "'''\n",
    "Write a Python program to get the factorial of a non-negative integer\n",
    "\n",
    "factoriel(n) = n * (n - 1) * (n - 2) * .. * 1\n",
    "'''"
   ]
  },
  {
   "cell_type": "code",
   "execution_count": null,
   "metadata": {},
   "outputs": [],
   "source": [
    "'''\n",
    "Write a Python program to solve the Fibonacci sequence using recursion\n",
    "'''"
   ]
  },
  {
   "cell_type": "code",
   "execution_count": null,
   "metadata": {},
   "outputs": [],
   "source": [
    "'''\n",
    "Write a Python program to calculate the sum of the positive integers of n+(n-2)+(n-4)... (until n-x =< 0)\n",
    "'''"
   ]
  },
  {
   "cell_type": "code",
   "execution_count": null,
   "metadata": {},
   "outputs": [],
   "source": []
  },
  {
   "cell_type": "code",
   "execution_count": null,
   "metadata": {},
   "outputs": [],
   "source": []
  },
  {
   "cell_type": "code",
   "execution_count": null,
   "metadata": {},
   "outputs": [],
   "source": []
  }
 ],
 "metadata": {
  "kernelspec": {
   "display_name": "Python 3",
   "language": "python",
   "name": "python3"
  },
  "language_info": {
   "codemirror_mode": {
    "name": "ipython",
    "version": 3
   },
   "file_extension": ".py",
   "mimetype": "text/x-python",
   "name": "python",
   "nbconvert_exporter": "python",
   "pygments_lexer": "ipython3",
   "version": "3.8.5"
  }
 },
 "nbformat": 4,
 "nbformat_minor": 2
}
