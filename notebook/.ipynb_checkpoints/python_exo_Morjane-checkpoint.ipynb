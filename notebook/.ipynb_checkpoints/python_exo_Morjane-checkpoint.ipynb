{
 "cells": [
  {
   "cell_type": "code",
   "execution_count": 42,
   "metadata": {},
   "outputs": [
    {
     "name": "stdout",
     "output_type": "stream",
     "text": [
      "['name1', 'name2', 'name3', 'name4', 'name5', 'name6'] \n",
      "\n",
      "GROUP #1 :\n",
      "name1\n",
      "name5\n",
      "\n",
      "GROUP #2 :\n",
      "name6\n",
      "name2\n",
      "\n",
      "GROUP #3 :\n",
      "name4\n",
      "name3\n",
      "\n",
      "[]\n"
     ]
    }
   ],
   "source": [
    "# COMMENTEZ CHAQUE LIGNE DE CE SCRIPT EN EXPLIQUANT CE QU'ELLE FAIT ET POURQUOI\n",
    "\n",
    "# EXPLIQUEZ CE QUE FAIT RANDOM.SAMPLE ET LES ALTERNATIVES QUI EXISTENT EN CHERCHANT SUR INTERNET\n",
    "\n",
    "# EXPLIQUEZ LE %S DU PRINT, QUELS SONT LES AUTRES POSSIBILITES\n",
    "\n",
    "# EXPLIQUEZ LE BUT DE CE SCRIPT\n",
    "\n",
    "# CORRIGEZ LES ERREURS DE CE SCRIPT\n",
    "\n",
    "# RAJOUTER AU SCRIPT UNE PARTIE QUI AFFICHE TOUS LES NOMS\n",
    "\n",
    "# FAITES EN SORTE QUE LE RESULTAT RESSEMBLE A\n",
    "    # GROUP #1:  ['nameX', 'nameX']\n",
    "    # GROUP #2:  ['nameX', 'nameX']\n",
    "    # GROUP #3:  ['nameX', 'nameX']\n",
    "    \n",
    "# MODIFIEZ LE PRINT POUR REVENIR A LA LIGNE AVANT D'AFFICHER LES GROUPES\n",
    "\n",
    "# MODIFIEZ LE SCRIPT POUR SELECTIONNER UN A UN LES MEMBRES DE LA LISTE \"selected\"\n",
    "\n",
    "# MODIFIEZ LE SCRIPT PRECEDANT POUR OBTENIR LE MEME FONCTIONNEMENT SANS AVOIR A DETERMINER LE NOMBRE DE GROUPES\n",
    "# INDICE: TOUT SE PASSE SUR LA LISTE NAMES\n",
    "# INDICE: PENSER A WHILE\n",
    "\n",
    "# TRANSPOSER CE CODE DANS UN FICHIER .PY ET TROUVER COMMENT L'EXECUTER DEPUIS UN TERMINAL\n",
    "\n",
    "# importe toutes les fonctions de la classe random\n",
    "import random\n",
    "\n",
    "# déclaration et initialisation des variables indicées name\n",
    "name1 = 'name1'\n",
    "name2 = 'name2'\n",
    "name3 = 'name3'\n",
    "name4 = 'name4'\n",
    "name5 = 'name5'\n",
    "name6 = 'name6'\n",
    "\n",
    "# déclaration et initialisation d'un tableau names\n",
    "names = [name1, name2, name3, name4, name5, name6]\n",
    "\n",
    "# affichage de tous les noms du tableau names\n",
    "print(names,\"\\n\")\n",
    "\n",
    "# déclaration et initialisation de la variable entière nb_groups\n",
    "nb_groups = 3\n",
    "\n",
    "# déclaration et calcul de la variable max_nb_groups\n",
    "# len(names) : taille du tableau names\n",
    "max_nb_groups = int(len(names) / nb_groups)\n",
    "\n",
    "# pour i allant de 1 à nb_groups\n",
    "# for i in range(1,nb_groups + 1): # erreur\n",
    "\n",
    "i = 1\n",
    "size_names = len(names)\n",
    "\n",
    "while(size_names > 0):\n",
    "\n",
    "    # crée un tableau selected contenant k items choisis au hasard dans le tableau names\n",
    "    selected = random.sample(names, max_nb_groups)\n",
    "    \n",
    "    # affiche l'indice i et le contenu du tableau selected\n",
    "    print(\"GROUP #%s :\" % (i))\n",
    "    for elem in selected:\n",
    "        print(elem)\n",
    "        \n",
    "    print()\n",
    "    \n",
    "    #size_names = size_names - max_nb_groups\n",
    "    i = i + 1\n",
    "    \n",
    "    # pour tout élément sel du tableau selected\n",
    "    for sel in selected:\n",
    "        # supprimer l'élémént sélectionné du tableau names\n",
    "        names.remove(sel)\n",
    "        \n",
    "    size_names = len(names)\n",
    "        \n",
    "print(names)\n"
   ]
  },
  {
   "cell_type": "code",
   "execution_count": 198,
   "metadata": {},
   "outputs": [
    {
     "name": "stdout",
     "output_type": "stream",
     "text": [
      "{5, 'Pierre', 'Francois'}\n"
     ]
    }
   ],
   "source": [
    "my_list = ['jordan','jordan','clark','jordan','clark','michel','thomas','michel','thomas','Francois','jordan','Pierre',5]\n",
    "\n",
    "# 1 - Retirer les doublons\n",
    "\n",
    "# solution 1:\n",
    "\"\"\"for name in my_list:\n",
    "    count = my_list.count(name)\n",
    "    while(count > 1):\n",
    "        my_list.remove(name)\n",
    "        count = my_list.count(name)    \n",
    "print(my_list)\"\"\"\n",
    "\n",
    "# solution 2:\n",
    "\"\"\"\"new_list = []\n",
    "for name in my_list:\n",
    "    if name not in new_list:\n",
    "        new_list.append(name)        \n",
    "print(new_list)\"\"\"\n",
    "\n",
    "# solution 3:\n",
    "\"\"\"\"for name in my_list:\n",
    "    while(my_list.count(name)>1):\n",
    "        my_list.remove(name)\n",
    "print(my_list)\"\"\"\n",
    "\n",
    "# 2 - Retirer tous les doublons et n'afficher que les occurences uniques\n",
    "\n",
    "# solution 1:\n",
    "new_list = set(my_list).difference([n for n in my_list if my_list.count(n) >=2])\n",
    "print(new_list)\n"
   ]
  },
  {
   "cell_type": "code",
   "execution_count": 2,
   "metadata": {},
   "outputs": [
    {
     "ename": "SyntaxError",
     "evalue": "invalid syntax (<ipython-input-2-0b93338186d3>, line 1)",
     "output_type": "error",
     "traceback": [
      "\u001b[1;36m  File \u001b[1;32m\"<ipython-input-2-0b93338186d3>\"\u001b[1;36m, line \u001b[1;32m1\u001b[0m\n\u001b[1;33m    def exo1( list1[], list2[]):\u001b[0m\n\u001b[1;37m                   ^\u001b[0m\n\u001b[1;31mSyntaxError\u001b[0m\u001b[1;31m:\u001b[0m invalid syntax\n"
     ]
    }
   ],
   "source": [
    "def exo1( list1[], list2[]):\n",
    "    new_list = list1 + list2\n",
    "    return set(new_list).difference([n for n in new_list if new_list.count(n) >=3 or new_list.count(n)==1])\n",
    "\n",
    "my_list1 = [1, 1, 2, 3, 5, 8, 13, 21, 34, 55, 89]\n",
    "my_list2  = [1, 2, 3, 4, 5, 6, 7, 8, 9, 10, 11, 12, 13]\n",
    "\n",
    "new_list = exo(my_list1,my_list2)\n",
    "print(new_list)"
   ]
  },
  {
   "cell_type": "code",
   "execution_count": null,
   "metadata": {},
   "outputs": [],
   "source": []
  }
 ],
 "metadata": {
  "kernelspec": {
   "display_name": "Python 3",
   "language": "python",
   "name": "python3"
  },
  "language_info": {
   "codemirror_mode": {
    "name": "ipython",
    "version": 3
   },
   "file_extension": ".py",
   "mimetype": "text/x-python",
   "name": "python",
   "nbconvert_exporter": "python",
   "pygments_lexer": "ipython3",
   "version": "3.8.5"
  }
 },
 "nbformat": 4,
 "nbformat_minor": 2
}
