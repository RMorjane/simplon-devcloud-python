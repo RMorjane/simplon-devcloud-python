{
 "cells": [
  {
   "cell_type": "code",
   "execution_count": 29,
   "metadata": {},
   "outputs": [
    {
     "name": "stdout",
     "output_type": "stream",
     "text": [
      "False\n"
     ]
    }
   ],
   "source": [
    "'''\n",
    "Given two numbers, check if they are equals (use try except)\n",
    "'''\n",
    "number1 = 20\n",
    "number2 = 30\n",
    "\n",
    "def isEqual(v1,v2):\n",
    "    try: \n",
    "        1 / (v1 - v2)\n",
    "        return False\n",
    "    except:\n",
    "        return True\n",
    "\n",
    "print(isEqual(number1,number2))\n"
   ]
  },
  {
   "cell_type": "code",
   "execution_count": 2,
   "metadata": {},
   "outputs": [
    {
     "name": "stdout",
     "output_type": "stream",
     "text": [
      "1505\n",
      "1512\n",
      "1519\n",
      "1526\n",
      "1533\n",
      "1540\n",
      "1547\n",
      "1554\n",
      "1561\n",
      "1568\n",
      "1575\n",
      "1582\n",
      "1589\n",
      "1596\n",
      "1603\n",
      "1610\n",
      "1617\n",
      "1624\n",
      "1631\n",
      "1638\n",
      "1645\n",
      "1652\n",
      "1659\n",
      "1666\n",
      "1673\n",
      "1680\n",
      "1687\n",
      "1694\n",
      "1701\n",
      "1708\n",
      "1715\n",
      "1722\n",
      "1729\n",
      "1736\n",
      "1743\n",
      "1750\n",
      "1757\n",
      "1764\n",
      "1771\n",
      "1778\n",
      "1785\n",
      "1792\n",
      "1799\n",
      "1806\n",
      "1813\n",
      "1820\n",
      "1827\n",
      "1834\n",
      "1841\n",
      "1848\n",
      "1855\n",
      "1862\n",
      "1869\n",
      "1876\n",
      "1883\n",
      "1890\n",
      "1897\n",
      "1904\n",
      "1911\n",
      "1918\n",
      "1925\n",
      "1932\n",
      "1939\n",
      "1946\n",
      "1953\n",
      "1960\n",
      "1967\n",
      "1974\n",
      "1981\n",
      "1988\n",
      "1995\n",
      "2002\n",
      "2009\n",
      "2016\n",
      "2023\n",
      "2030\n",
      "2037\n",
      "2044\n",
      "2051\n",
      "2058\n",
      "2065\n",
      "2072\n",
      "2079\n",
      "2086\n",
      "2093\n",
      "2100\n",
      "2107\n",
      "2114\n",
      "2121\n",
      "2128\n",
      "2135\n",
      "2142\n",
      "2149\n",
      "2156\n",
      "2163\n",
      "2170\n",
      "2177\n",
      "2184\n",
      "2191\n",
      "2198\n",
      "2205\n",
      "2212\n",
      "2219\n",
      "2226\n",
      "2233\n",
      "2240\n",
      "2247\n",
      "2254\n",
      "2261\n",
      "2268\n",
      "2275\n",
      "2282\n",
      "2289\n",
      "2296\n",
      "2303\n",
      "2310\n",
      "2317\n",
      "2324\n",
      "2331\n",
      "2338\n",
      "2345\n",
      "2352\n",
      "2359\n",
      "2366\n",
      "2373\n",
      "2380\n",
      "2387\n",
      "2394\n",
      "2401\n",
      "2408\n",
      "2415\n",
      "2422\n",
      "2429\n",
      "2436\n",
      "2443\n",
      "2450\n",
      "2457\n",
      "2464\n",
      "2471\n",
      "2478\n",
      "2485\n",
      "2492\n",
      "2499\n",
      "2506\n",
      "2513\n",
      "2520\n",
      "2527\n",
      "2534\n",
      "2541\n",
      "2548\n",
      "2555\n",
      "2562\n",
      "2569\n",
      "2576\n",
      "2583\n",
      "2590\n",
      "2597\n",
      "2604\n",
      "2611\n",
      "2618\n",
      "2625\n",
      "2632\n",
      "2639\n",
      "2646\n",
      "2653\n",
      "2660\n",
      "2667\n",
      "2674\n",
      "2681\n",
      "2688\n",
      "2695\n"
     ]
    }
   ],
   "source": [
    "'''\n",
    "find those numbers which are divisible by 7 and multiple of 5, between 1500 and 2700 (both included)\n",
    "'''\n",
    "min = 1500\n",
    "max = 2700\n",
    "\n",
    "for number in range(min,max):\n",
    "    if number % 7 == 0 and number % 5:\n",
    "        print(number)"
   ]
  },
  {
   "cell_type": "code",
   "execution_count": 160,
   "metadata": {},
   "outputs": [
    {
     "name": "stdout",
     "output_type": "stream",
     "text": [
      "0\n"
     ]
    }
   ],
   "source": [
    "'''\n",
    "sum of three given integers. \n",
    "However, if two values are equal sum will be zero\n",
    "'''\n",
    "\n",
    "my_nb1 = 10\n",
    "my_nb2 = 10\n",
    "my_nb3 = 15\n",
    "\n",
    "def isEqual(v1,v2):\n",
    "    try: \n",
    "        1 / (v1 - v2)\n",
    "        return False\n",
    "    except:\n",
    "        return True\n",
    "\n",
    "somme = 0\n",
    "if not(isEqual(my_nb1,my_nb2) or isEqual(my_nb1,my_nb3) or isEqual(my_nb2,my_nb3)):\n",
    "    somme = my_nb1 + my_nb2 + my_nb3\n",
    "    \n",
    "print(somme)"
   ]
  },
  {
   "cell_type": "code",
   "execution_count": 42,
   "metadata": {},
   "outputs": [
    {
     "name": "stdout",
     "output_type": "stream",
     "text": [
      "One of the two objects are not integer type\n"
     ]
    }
   ],
   "source": [
    "'''\n",
    "add two objects if both objects are an integer type\n",
    "'''\n",
    "\n",
    "my_obj1 = 13\n",
    "my_obj2 = '12'\n",
    "\n",
    "def somme(v1,v2):\n",
    "    try:\n",
    "        return v1 + v2\n",
    "    except:\n",
    "        return \"One of the two objects are not integer type\"\n",
    "\n",
    "print(somme(my_obj1,my_obj2))"
   ]
  },
  {
   "cell_type": "code",
   "execution_count": 78,
   "metadata": {},
   "outputs": [
    {
     "name": "stdout",
     "output_type": "stream",
     "text": [
      "0  days\n",
      "4  hours\n",
      "36  minutes\n",
      "22  seconds\n"
     ]
    }
   ],
   "source": [
    "'''\n",
    "convert seconds to day, hour, minutes and seconds\n",
    "'''\n",
    "\n",
    "my_secs = 16582\n",
    "\n",
    "def quotient(v1,v2):\n",
    "    return int((v1 - v1 % v2)/v2)\n",
    "\n",
    "print(quotient(my_secs,86400),\" days\")\n",
    "my_secs = my_secs % 86400\n",
    "\n",
    "print(quotient(my_secs,3600),\" hours\")\n",
    "my_secs = my_secs % 3600\n",
    "\n",
    "print(quotient(my_secs,60),\" minutes\")\n",
    "my_secs = my_secs % 60\n",
    "\n",
    "print(my_secs,\" seconds\")"
   ]
  },
  {
   "cell_type": "code",
   "execution_count": 20,
   "metadata": {},
   "outputs": [
    {
     "name": "stdout",
     "output_type": "stream",
     "text": [
      "4:36:22\n"
     ]
    }
   ],
   "source": [
    "import datetime\n",
    "my_secs = 16582\n",
    "time_convert = datetime.timedelta(seconds = my_secs)\n",
    "print(time_convert)"
   ]
  },
  {
   "cell_type": "code",
   "execution_count": 86,
   "metadata": {},
   "outputs": [
    {
     "name": "stdout",
     "output_type": "stream",
     "text": [
      "\n",
      "* \n",
      "* * \n",
      "* * * \n",
      "* * * * \n",
      "* * * * * \n",
      "* * * * \n",
      "* * * \n",
      "* * \n",
      "* \n"
     ]
    }
   ],
   "source": [
    "'''\n",
    "construct the following pattern, using a nested for loop.\n",
    "* \n",
    "* * \n",
    "* * * \n",
    "* * * * \n",
    "* * * * * \n",
    "* * * * \n",
    "* * * \n",
    "* * \n",
    "*\n",
    "'''\n",
    "\n",
    "for i in range(6):\n",
    "    line = \"\"\n",
    "    for j in range(i):\n",
    "        line += \"* \"\n",
    "    print(line)\n",
    "    \n",
    "for i in range(1,5):\n",
    "    line = \"\"\n",
    "    for j in range(5-i):\n",
    "        line += \"* \"\n",
    "    print(line)"
   ]
  },
  {
   "cell_type": "code",
   "execution_count": 96,
   "metadata": {},
   "outputs": [
    {
     "name": "stdout",
     "output_type": "stream",
     "text": [
      "133\n"
     ]
    }
   ],
   "source": [
    "'''\n",
    "return the largest of three numbers. \n",
    "Do this without using the Python max() function\n",
    "'''\n",
    "\n",
    "my_nb1 = 13\n",
    "my_nb2 = 133\n",
    "my_nb3 = 1\n",
    "\n",
    "def maxNumber(v1,v2,v3):\n",
    "    if v1 > v2:\n",
    "        if v1 > v3:\n",
    "            return v1\n",
    "        else:\n",
    "            return v3\n",
    "    else:\n",
    "        if v2 > v3:\n",
    "            return v2\n",
    "        else:\n",
    "            return v3\n",
    "    \n",
    "largest = maxNumber(my_nb1,my_nb2,my_nb3)\n",
    "print(largest)"
   ]
  },
  {
   "cell_type": "code",
   "execution_count": 28,
   "metadata": {},
   "outputs": [
    {
     "name": "stdout",
     "output_type": "stream",
     "text": [
      "133\n"
     ]
    }
   ],
   "source": [
    "my_list = [13,133,1]\n",
    "largest = 0\n",
    "for i in range(len(my_list)):\n",
    "    if largest < my_list[i]:\n",
    "        largest = my_list[i]\n",
    "print(largest)"
   ]
  },
  {
   "cell_type": "code",
   "execution_count": 110,
   "metadata": {},
   "outputs": [
    {
     "name": "stdout",
     "output_type": "stream",
     "text": [
      "4\n"
     ]
    }
   ],
   "source": [
    "'''\n",
    "find how many 0s a number has\n",
    "'''\n",
    "\n",
    "my_nb = 13001200\n",
    "\n",
    "def countZerro(v):\n",
    "    count = 0\n",
    "    str_nb = str(v)\n",
    "    for i in range(len(str_nb)):\n",
    "        if str_nb[i]=='0':\n",
    "            count += 1\n",
    "    return count\n",
    "\n",
    "print(countZerro(my_nb))"
   ]
  },
  {
   "cell_type": "code",
   "execution_count": 122,
   "metadata": {},
   "outputs": [
    {
     "name": "stdout",
     "output_type": "stream",
     "text": [
      "Enter a word : \n",
      "regle\n",
      "Word reversed :  elger\n"
     ]
    }
   ],
   "source": [
    "'''\n",
    "accept a word from the user and reverse it. \n",
    "use input\n",
    "'''\n",
    "\n",
    "print(\"Enter a word : \")\n",
    "word = input()\n",
    "\n",
    "# solution 1:\n",
    "#print(\"Word reversed : \",word[::-1])\n",
    "\n",
    "#solution 2:\n",
    "def reverse(string):\n",
    "    rev = \"\"\n",
    "    for i in range(len(string)):\n",
    "        rev += string[len(string)-1-i]\n",
    "    return rev\n",
    "\n",
    "print(\"Word reversed : \",reverse(word))"
   ]
  },
  {
   "cell_type": "code",
   "execution_count": 125,
   "metadata": {},
   "outputs": [
    {
     "name": "stdout",
     "output_type": "stream",
     "text": [
      "the key 'nom' already exists in the dictionary\n"
     ]
    }
   ],
   "source": [
    "'''\n",
    "check whether the key \"nom\" already exists in a dictionary.\n",
    "'''\n",
    "\n",
    "my_dict = {'age': 25, 'taille': 180, 'nom': 'alexi'}\n",
    "\n",
    "if \"nom\" in my_dict.keys():\n",
    "    print(\"the key 'nom' already exists in the dictionary\")\n",
    "else:\n",
    "    print(\"the key 'nom' does not exists in the dictionary\")"
   ]
  },
  {
   "cell_type": "code",
   "execution_count": 126,
   "metadata": {},
   "outputs": [
    {
     "name": "stdout",
     "output_type": "stream",
     "text": [
      "nom :  alexi\n"
     ]
    }
   ],
   "source": [
    "'''\n",
    "return value of \"nom\" \n",
    "'''\n",
    "my_dict = {'age': 25, 'taille': 180, 'nom': 'alexi'}\n",
    "\n",
    "print(\"nom : \",my_dict[\"nom\"])"
   ]
  },
  {
   "cell_type": "code",
   "execution_count": 127,
   "metadata": {},
   "outputs": [
    {
     "name": "stdout",
     "output_type": "stream",
     "text": [
      "None\n"
     ]
    }
   ],
   "source": [
    "'''\n",
    "make a statement that returns the value of the key \"nom\" if it exists, otherwise None\n",
    "'''\n",
    "\n",
    "my_dict = {'age': 25, 'taille': 180}\n",
    "\n",
    "if \"nom\" in my_dict.keys():\n",
    "    print(\"nom : \",my_dict[\"nom\"])\n",
    "else:\n",
    "    print(\"None\")"
   ]
  },
  {
   "cell_type": "code",
   "execution_count": 50,
   "metadata": {},
   "outputs": [
    {
     "name": "stdout",
     "output_type": "stream",
     "text": [
      "null\n"
     ]
    }
   ],
   "source": [
    "my_dict = {'age': 25, 'taille': 180}\n",
    "\n",
    "print(my_dict.get(\"nom\", 'null'))"
   ]
  },
  {
   "cell_type": "code",
   "execution_count": 158,
   "metadata": {},
   "outputs": [
    {
     "name": "stdout",
     "output_type": "stream",
     "text": [
      "nom :  morjane\n"
     ]
    }
   ],
   "source": [
    "'''\n",
    "change \"nom\" to your name in my_dict\n",
    "'''\n",
    "\n",
    "my_dict = {'age': 25, 'taille': 180, 'nom': 'alexi'}\n",
    "\n",
    "if \"nom\" in my_dict.keys():\n",
    "    my_dict[\"nom\"] = \"morjane\"\n",
    "    print(\"nom : \",my_dict[\"nom\"])"
   ]
  },
  {
   "cell_type": "code",
   "execution_count": 156,
   "metadata": {},
   "outputs": [
    {
     "name": "stdout",
     "output_type": "stream",
     "text": [
      "{1: 1, 2: 4, 3: 9, 4: 16, 5: 25, 6: 36, 7: 49, 8: 64, 9: 81}\n"
     ]
    }
   ],
   "source": [
    "'''\n",
    "print a dictionary that contains a number (between 1 and n) in the form (x, x*x)\n",
    "n = 5\n",
    "output {1: 1, 2: 4, 3: 9, 4: 16, 5: 25}\n",
    "'''\n",
    "\n",
    "n = 9\n",
    "\n",
    "#méthode utilisant la compréhension du dictionnaire\n",
    "my_dict = {i+1: (i+1)**2 for i in range(n)}\n",
    "print(my_dict)"
   ]
  },
  {
   "cell_type": "code",
   "execution_count": 159,
   "metadata": {},
   "outputs": [
    {
     "name": "stdout",
     "output_type": "stream",
     "text": [
      "{'nom': 'lahoe', 'prenom': 'alexi', 'age': 24, 'taille': 180}\n"
     ]
    }
   ],
   "source": [
    "'''\n",
    "merge two Python dictionaries\n",
    "'''\n",
    "\n",
    "my_dict1 = {'age': 24, 'taille': 180}\n",
    "my_dict2 = {'nom': 'lahoe', 'prenom': 'alexi'}\n",
    "\n",
    "merge_dict = {**my_dict2 , **my_dict1}\n",
    "print(merge_dict)"
   ]
  },
  {
   "cell_type": "code",
   "execution_count": 146,
   "metadata": {},
   "outputs": [
    {
     "name": "stdout",
     "output_type": "stream",
     "text": [
      "6\n"
     ]
    }
   ],
   "source": [
    "'''\n",
    "sum all the items in a dictionary\n",
    "'''\n",
    "\n",
    "my_dict = {'key1': 1, 'key2': 2, 'key3': 3}\n",
    "\n",
    "sum_items = 0\n",
    "for key in my_dict:\n",
    "    sum_items += my_dict[key]\n",
    "    \n",
    "print(sum_items)"
   ]
  },
  {
   "cell_type": "code",
   "execution_count": 48,
   "metadata": {},
   "outputs": [
    {
     "name": "stdout",
     "output_type": "stream",
     "text": [
      "6\n"
     ]
    }
   ],
   "source": [
    "my_dict = {'key1': 1, 'key2': 2, 'key3': 3}\n",
    "\n",
    "somme = sum(my_dict[key] for key in my_dict)\n",
    "print(somme)"
   ]
  },
  {
   "cell_type": "code",
   "execution_count": 151,
   "metadata": {},
   "outputs": [
    {
     "name": "stdout",
     "output_type": "stream",
     "text": [
      "{'age': 25, 'taille': 180}\n"
     ]
    }
   ],
   "source": [
    "'''\n",
    "remove a key \"nom\" a dictionary\n",
    "'''\n",
    "\n",
    "my_dict = {'age': 25, 'taille': 180, 'nom': 'alexi'}\n",
    "\n",
    "try:\n",
    "    del my_dict['nom']\n",
    "    print(my_dict)\n",
    "except:\n",
    "    print(\"the key 'nom' does not exists in the dictionary\")"
   ]
  },
  {
   "cell_type": "code",
   "execution_count": 154,
   "metadata": {},
   "outputs": [
    {
     "name": "stdout",
     "output_type": "stream",
     "text": [
      "{'nom': 'alexi', 'prenom': 'lahoe', 'age': 24}\n"
     ]
    }
   ],
   "source": [
    "'''\n",
    "map two lists into a dictionary.\n",
    "'''\n",
    "\n",
    "list1 = ['nom', 'prenom', 'age']\n",
    "list2 = ['alexi', 'lahoe', 24]\n",
    "\n",
    "try:\n",
    "    #solution 1:\n",
    "    #my_dict = dict(zip(list1,list2))\n",
    "    \n",
    "    #solution 2:\n",
    "    my_dict = {list1[i]: list2[i] for i in range(len(list1))}\n",
    "    print(my_dict)\n",
    "except:\n",
    "    print(\"The two lists have not the same size\")"
   ]
  },
  {
   "cell_type": "code",
   "execution_count": null,
   "metadata": {},
   "outputs": [],
   "source": []
  },
  {
   "cell_type": "code",
   "execution_count": null,
   "metadata": {},
   "outputs": [],
   "source": []
  },
  {
   "cell_type": "code",
   "execution_count": null,
   "metadata": {},
   "outputs": [],
   "source": []
  }
 ],
 "metadata": {
  "kernelspec": {
   "display_name": "Python 3",
   "language": "python",
   "name": "python3"
  },
  "language_info": {
   "codemirror_mode": {
    "name": "ipython",
    "version": 3
   },
   "file_extension": ".py",
   "mimetype": "text/x-python",
   "name": "python",
   "nbconvert_exporter": "python",
   "pygments_lexer": "ipython3",
   "version": "3.8.5"
  }
 },
 "nbformat": 4,
 "nbformat_minor": 2
}
