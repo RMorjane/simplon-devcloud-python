{
 "cells": [
  {
   "cell_type": "code",
   "execution_count": null,
   "metadata": {},
   "outputs": [],
   "source": [
    "'''\n",
    "Given a two numbers, check if they are equals\n",
    "'''\n",
    "number1 = 20\n",
    "number2 = 30\n",
    "\n",
    "\n",
    "\n"
   ]
  },
  {
   "cell_type": "code",
   "execution_count": null,
   "metadata": {},
   "outputs": [],
   "source": [
    "'''\n",
    "Given a two numbers return their product\n",
    "'''\n",
    "\n",
    "number1 = 20\n",
    "number2 = 30\n"
   ]
  },
  {
   "cell_type": "code",
   "execution_count": null,
   "metadata": {},
   "outputs": [],
   "source": [
    "'''\n",
    "And if the product is greater than 1000, then return their sum\n",
    "'''\n",
    "\n",
    "number1 = 200\n",
    "number2 = 30\n",
    "\n"
   ]
  },
  {
   "cell_type": "code",
   "execution_count": null,
   "metadata": {},
   "outputs": [],
   "source": [
    "'''\n",
    "Depending on whether the number is even or odd, print out an appropriate message: use \"if\"\n",
    "'''\n",
    "\n",
    "my_number = 11\n"
   ]
  },
  {
   "cell_type": "code",
   "execution_count": null,
   "metadata": {},
   "outputs": [],
   "source": [
    "'''\n",
    "Print multiplication table of given number: use \"for\" loop\n",
    "'''\n",
    "\n",
    "my_number = 3\n"
   ]
  },
  {
   "cell_type": "code",
   "execution_count": null,
   "metadata": {},
   "outputs": [],
   "source": [
    "'''\n",
    "Given a list of numbers, return True if first and last number of a list is same\n",
    "'''\n",
    "\n",
    "my_list = [1, 2, 4, 1]\n"
   ]
  },
  {
   "cell_type": "code",
   "execution_count": null,
   "metadata": {},
   "outputs": [],
   "source": [
    "'''\n",
    "Given a list turn every item of a list into its square\n",
    "'''\n",
    "\n",
    "my_list = [1, 2, 4, 1]\n"
   ]
  },
  {
   "cell_type": "code",
   "execution_count": null,
   "metadata": {},
   "outputs": [],
   "source": [
    "'''\n",
    "Given a list iterate it and display numbers which are divisible by 5 \n",
    "'''\n",
    "\n",
    "my_list = [1, 15, 4, 20, 22, 100, 10000, 5, 10]\n",
    "\n"
   ]
  },
  {
   "cell_type": "code",
   "execution_count": null,
   "metadata": {},
   "outputs": [],
   "source": [
    "'''\n",
    "change the loop so that if you find number greater than 150 stop the loop iteration\n",
    "'''\n",
    "\n",
    "my_list = [1, 15, 4, 20, 22, 100, 10000, 5, 10]\n",
    "\n"
   ]
  },
  {
   "cell_type": "code",
   "execution_count": null,
   "metadata": {},
   "outputs": [],
   "source": [
    "'''\n",
    "Return the following pattern\n",
    "1 \n",
    "2 2 \n",
    "3 3 3 \n",
    "4 4 4 4 \n",
    "5 5 5 5 5\n",
    "'''\n",
    "\n"
   ]
  },
  {
   "cell_type": "code",
   "execution_count": null,
   "metadata": {},
   "outputs": [],
   "source": [
    "'''\n",
    "Given a list, return its elements in reverse order\n",
    "'''\n",
    "\n",
    "my_list = [1, 2, 4, 1]\n"
   ]
  },
  {
   "cell_type": "code",
   "execution_count": null,
   "metadata": {},
   "outputs": [],
   "source": [
    "'''\n",
    "Given 2 strings create a new string by appending s2 at the end of s1\n",
    "'''\n",
    "\n",
    "my_str1 = 'hello'\n",
    "my_str2 = 'world'\n"
   ]
  },
  {
   "cell_type": "code",
   "execution_count": null,
   "metadata": {},
   "outputs": [],
   "source": [
    "'''\n",
    "And add '.' between them\n",
    "'''\n",
    "\n",
    "my_str1 = 'hello'\n",
    "my_str2 = 'world'\n",
    "\n"
   ]
  },
  {
   "cell_type": "code",
   "execution_count": null,
   "metadata": {},
   "outputs": [],
   "source": [
    "'''\n",
    "Remove empty strings from the list of strings\n",
    "'''\n",
    "\n",
    "my_list = ['hello', '', 'world', 'hello', 'good', 'morning']\n"
   ]
  },
  {
   "cell_type": "code",
   "execution_count": null,
   "metadata": {},
   "outputs": [],
   "source": [
    "'''\n",
    "Return the total count of the word 'hello' in the list\n",
    "'''\n",
    "\n",
    "my_list = ['hello', '', 'world', 'hello', 'good', '', 'morning']\n"
   ]
  },
  {
   "cell_type": "code",
   "execution_count": null,
   "metadata": {},
   "outputs": [],
   "source": []
  },
  {
   "cell_type": "code",
   "execution_count": null,
   "metadata": {},
   "outputs": [],
   "source": []
  },
  {
   "cell_type": "code",
   "execution_count": null,
   "metadata": {},
   "outputs": [],
   "source": []
  },
  {
   "cell_type": "code",
   "execution_count": null,
   "metadata": {},
   "outputs": [],
   "source": []
  },
  {
   "cell_type": "code",
   "execution_count": null,
   "metadata": {},
   "outputs": [],
   "source": []
  },
  {
   "cell_type": "code",
   "execution_count": null,
   "metadata": {},
   "outputs": [],
   "source": []
  },
  {
   "cell_type": "code",
   "execution_count": null,
   "metadata": {},
   "outputs": [],
   "source": []
  }
 ],
 "metadata": {
  "kernelspec": {
   "display_name": "Python 3",
   "language": "python",
   "name": "python3"
  },
  "language_info": {
   "codemirror_mode": {
    "name": "ipython",
    "version": 3
   },
   "file_extension": ".py",
   "mimetype": "text/x-python",
   "name": "python",
   "nbconvert_exporter": "python",
   "pygments_lexer": "ipython3",
   "version": "3.8.5"
  }
 },
 "nbformat": 4,
 "nbformat_minor": 2
}
