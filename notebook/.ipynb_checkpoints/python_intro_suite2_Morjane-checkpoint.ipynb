{
 "cells": [
  {
   "cell_type": "code",
   "execution_count": 1,
   "metadata": {},
   "outputs": [
    {
     "name": "stdout",
     "output_type": "stream",
     "text": [
      "{'nom': 'alexi', 'prenom': 'lahoe', 'age': 24}\n"
     ]
    }
   ],
   "source": [
    "'''\n",
    "map two lists into a dictionary.\n",
    "'''\n",
    "\n",
    "list1 = ['nom', 'prenom', 'age']\n",
    "list2 = ['alexi', 'lahoe', 24]\n",
    "\n",
    "try:\n",
    "    #solution 1:\n",
    "    #my_dict = dict(zip(list1,list2))\n",
    "    \n",
    "    #solution 2:\n",
    "    my_dict = {list1[i]: list2[i] for i in range(len(list1))}\n",
    "    print(my_dict)\n",
    "except:\n",
    "    print(\"The two lists have not the same size\")\n"
   ]
  },
  {
   "cell_type": "code",
   "execution_count": 3,
   "metadata": {},
   "outputs": [
    {
     "name": "stdout",
     "output_type": "stream",
     "text": [
      "{'nom': 'lahoe', 'prenom': 'alexei'}\n"
     ]
    }
   ],
   "source": [
    "'''\n",
    "remove duplicates from Dictionary\n",
    "'''\n",
    "\n",
    "my_dict = {'nom': 'lahoe', 'prenom': 'alexi', 'prenom': 'alexei'}\n",
    "\n",
    "result = {}\n",
    "\n",
    "for key,value in my_dict.items():\n",
    "    if value not in result.values():\n",
    "        result[key] = value\n",
    "print(result)\n"
   ]
  },
  {
   "cell_type": "code",
   "execution_count": null,
   "metadata": {},
   "outputs": [],
   "source": [
    "'''\n",
    "combine two dictionary adding values for common keys.\n",
    "d1 = {'a': 100, 'b': 200, 'c':300}\n",
    "d2 = {'a': 300, 'b': 200, 'd':400}\n",
    "output {'a': 400, 'b': 400, 'd': 400, 'c': 300}\n",
    "'''\n",
    "\n",
    "d1 = {'a': 100, 'b': 200, 'c':300}\n",
    "d2 = {'a': 300, 'b': 200, 'd':400}\n"
   ]
  },
  {
   "cell_type": "code",
   "execution_count": null,
   "metadata": {},
   "outputs": [],
   "source": [
    "'''\n",
    "get a new string from a given string where \"is\" has been added to the front. \n",
    "If the given string already begins with \"is\" then return the string unchanged\n",
    "'''\n",
    "my_str = 'Alex'\n",
    "my_str = 'Alexis'\n"
   ]
  },
  {
   "cell_type": "code",
   "execution_count": null,
   "metadata": {},
   "outputs": [],
   "source": [
    "'''\n",
    "return a list that contains only the elements that are common between the lists (without duplicates)\n",
    "'''\n",
    "my_list1 = [1, 1, 2, 3, 5, 8, 13, 21, 34, 55, 89]\n",
    "my_list2  = [1, 2, 3, 4, 5, 6, 7, 8, 9, 10, 11, 12, 13]\n"
   ]
  },
  {
   "cell_type": "code",
   "execution_count": null,
   "metadata": {},
   "outputs": [],
   "source": [
    "'''\n",
    "check whether a specified value is contained in a group of values\n",
    "\n",
    "3 -> [1, 5, 8, 3] : True\n",
    "-1 -> [1, 5, 8, 3] : False\n",
    "'''\n",
    "\n",
    "my_list = [1, 10, 100, 1500]\n",
    "my_nb = 10"
   ]
  },
  {
   "cell_type": "code",
   "execution_count": null,
   "metadata": {},
   "outputs": [],
   "source": [
    "'''\n",
    "take a string and calculate the number of digits and letters\n",
    "'''\n",
    "my_str = 'python3.6'\n"
   ]
  },
  {
   "cell_type": "code",
   "execution_count": null,
   "metadata": {},
   "outputs": [],
   "source": [
    "'''\n",
    "add my_nb to the end of the list\n",
    "'''"
   ]
  },
  {
   "cell_type": "code",
   "execution_count": null,
   "metadata": {},
   "outputs": [],
   "source": [
    "'''\n",
    "add my_nb to the beginning of the list\n",
    "'''"
   ]
  },
  {
   "cell_type": "code",
   "execution_count": null,
   "metadata": {},
   "outputs": [],
   "source": [
    "'''\n",
    "concatenate all elements in a list into a string and return it\n",
    "'''\n",
    "my_list = ['a', 'l', 'e', 'x', 'i']"
   ]
  },
  {
   "cell_type": "code",
   "execution_count": null,
   "metadata": {},
   "outputs": [],
   "source": [
    "'''\n",
    "get OS name, platform and release information.\n",
    "use package os\n",
    "'''"
   ]
  },
  {
   "cell_type": "code",
   "execution_count": null,
   "metadata": {},
   "outputs": [],
   "source": [
    "'''\n",
    "find and print your IP addresses\n",
    "'''"
   ]
  },
  {
   "cell_type": "code",
   "execution_count": null,
   "metadata": {},
   "outputs": [],
   "source": [
    "'''\n",
    "get an absolute file path\n",
    "'''"
   ]
  },
  {
   "cell_type": "code",
   "execution_count": null,
   "metadata": {},
   "outputs": [],
   "source": [
    "'''\n",
    "test whether all numbers of a list is greater than a certain number\n",
    "'''\n",
    "\n",
    "my_nb = 0\n",
    "my_list = [1, 10, 100, 1500]"
   ]
  },
  {
   "cell_type": "code",
   "execution_count": null,
   "metadata": {},
   "outputs": [],
   "source": []
  },
  {
   "cell_type": "code",
   "execution_count": null,
   "metadata": {},
   "outputs": [],
   "source": []
  },
  {
   "cell_type": "code",
   "execution_count": null,
   "metadata": {},
   "outputs": [],
   "source": []
  },
  {
   "cell_type": "code",
   "execution_count": null,
   "metadata": {},
   "outputs": [],
   "source": []
  }
 ],
 "metadata": {
  "kernelspec": {
   "display_name": "Python 3",
   "language": "python",
   "name": "python3"
  },
  "language_info": {
   "codemirror_mode": {
    "name": "ipython",
    "version": 3
   },
   "file_extension": ".py",
   "mimetype": "text/x-python",
   "name": "python",
   "nbconvert_exporter": "python",
   "pygments_lexer": "ipython3",
   "version": "3.8.5"
  }
 },
 "nbformat": 4,
 "nbformat_minor": 2
}
