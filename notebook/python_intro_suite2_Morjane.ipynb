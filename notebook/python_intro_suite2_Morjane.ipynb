{
 "cells": [
  {
   "cell_type": "code",
   "execution_count": 1,
   "metadata": {},
   "outputs": [
    {
     "name": "stdout",
     "output_type": "stream",
     "text": [
      "{'nom': 'alexi', 'prenom': 'lahoe', 'age': 24}\n"
     ]
    }
   ],
   "source": [
    "'''\n",
    "map two lists into a dictionary.\n",
    "'''\n",
    "\n",
    "list1 = ['nom', 'prenom', 'age']\n",
    "list2 = ['alexi', 'lahoe', 24]\n",
    "\n",
    "try:\n",
    "    #solution 1:\n",
    "    #my_dict = dict(zip(list1,list2))\n",
    "    \n",
    "    #solution 2:\n",
    "    my_dict = {list1[i]: list2[i] for i in range(len(list1))}\n",
    "    print(my_dict)\n",
    "except:\n",
    "    print(\"The two lists have not the same size\")\n"
   ]
  },
  {
   "cell_type": "code",
   "execution_count": 5,
   "metadata": {},
   "outputs": [
    {
     "name": "stdout",
     "output_type": "stream",
     "text": [
      "{'nom': 'lahoe', 'prenom': 'alexei'}\n"
     ]
    }
   ],
   "source": [
    "'''\n",
    "remove duplicates from Dictionary\n",
    "'''\n",
    "\n",
    "my_dict = {'nom': 'lahoe', 'prenom': 'alexi', 'prenom': 'alexei'}\n",
    "\n",
    "result = {}\n",
    "\n",
    "for key,value in my_dict.items():\n",
    "    if value not in result.values():\n",
    "        result[key] = value\n",
    "print(result)"
   ]
  },
  {
   "cell_type": "code",
   "execution_count": 35,
   "metadata": {},
   "outputs": [
    {
     "name": "stdout",
     "output_type": "stream",
     "text": [
      "{'a': 400, 'b': 400, 'd': 400, 'c': 300}\n"
     ]
    }
   ],
   "source": [
    "'''\n",
    "combine two dictionary adding values for common keys.\n",
    "d1 = {'a': 100, 'b': 200, 'c':300}\n",
    "d2 = {'a': 300, 'b': 200, 'd':400}\n",
    "output {'a': 400, 'b': 400, 'd': 400, 'c': 300}\n",
    "'''\n",
    "\n",
    "d1 = {'a': 100, 'b': 200, 'c':300}\n",
    "d2 = {'a': 300, 'b': 200, 'd':400}\n",
    "\n",
    "my_list = {}\n",
    "\n",
    "for key in d2:\n",
    "    if key in d1:\n",
    "        my_list[key] = d1[key] + d2[key]\n",
    "    else:\n",
    "        my_list[key] = d2[key]\n",
    "        \n",
    "for key in d1:\n",
    "    if key not in my_list:\n",
    "        my_list[key] = d1[key]\n",
    "        \n",
    "print(my_list)"
   ]
  },
  {
   "cell_type": "code",
   "execution_count": 18,
   "metadata": {},
   "outputs": [
    {
     "name": "stdout",
     "output_type": "stream",
     "text": [
      "Alex -> isAlex\n",
      "isAlex -> isAlex\n"
     ]
    }
   ],
   "source": [
    "'''\n",
    "get a new string from a given string where \"is\" has been added to the front. \n",
    "If the given string already begins with \"is\" then return the string unchanged\n",
    "'''\n",
    "def newString(given_str):\n",
    "    if len(given_str) >= 2 and given_str[:2] == \"is\":\n",
    "        return given_str\n",
    "    else:\n",
    "        return \"is\" + given_str\n",
    "    \n",
    "my_str = 'Alex'\n",
    "print(my_str,\"->\",newString(my_str))\n",
    "\n",
    "my_str = 'isAlex'\n",
    "print(my_str,\"->\",newString(my_str))"
   ]
  },
  {
   "cell_type": "code",
   "execution_count": 55,
   "metadata": {},
   "outputs": [
    {
     "name": "stdout",
     "output_type": "stream",
     "text": [
      "{2, 3, 5, 8, 13}\n"
     ]
    }
   ],
   "source": [
    "'''\n",
    "return a list that contains only the elements that are common between the lists (without duplicates)\n",
    "'''\n",
    "my_list1 = [1, 1, 2, 3, 5, 8, 13, 21, 34, 55, 89]\n",
    "my_list2  = [1, 2, 3, 4, 5, 6, 7, 8, 9, 10, 11, 12, 13]\n",
    "\n",
    "new_list = my_list1 + my_list2\n",
    "new_list = set(new_list).difference([n for n in new_list if new_list.count(n) >=3 or new_list.count(n)==1])\n",
    "\n",
    "print(new_list)"
   ]
  },
  {
   "cell_type": "code",
   "execution_count": 3,
   "metadata": {},
   "outputs": [
    {
     "name": "stdout",
     "output_type": "stream",
     "text": [
      "True\n"
     ]
    }
   ],
   "source": [
    "'''\n",
    "check whether a specified value is contained in a group of values\n",
    "\n",
    "3 -> [1, 5, 8, 3] : True\n",
    "-1 -> [1, 5, 8, 3] : False\n",
    "'''\n",
    "\n",
    "my_list = [1, 10, 100, 1500]\n",
    "my_nb = 10\n",
    "\n",
    "print(my_list.count(my_nb)>0)"
   ]
  },
  {
   "cell_type": "code",
   "execution_count": 66,
   "metadata": {},
   "outputs": [
    {
     "name": "stdout",
     "output_type": "stream",
     "text": [
      "number of digits :  2\n",
      "number of letters :  7\n"
     ]
    }
   ],
   "source": [
    "'''\n",
    "take a string and calculate the number of digits and letters\n",
    "'''\n",
    "my_str = 'python3.6'\n",
    "\n",
    "l_count = 0\n",
    "d_count = 0\n",
    "\n",
    "for i in my_str:\n",
    "    try:\n",
    "        int(i)\n",
    "        d_count += 1\n",
    "    except:\n",
    "        l_count += 1\n",
    "        \n",
    "print(\"number of digits : \",d_count)\n",
    "print(\"number of letters : \",l_count)"
   ]
  },
  {
   "cell_type": "code",
   "execution_count": 68,
   "metadata": {},
   "outputs": [
    {
     "name": "stdout",
     "output_type": "stream",
     "text": [
      "[1, 10, 100, 1500, 10]\n"
     ]
    }
   ],
   "source": [
    "'''\n",
    "add my_nb to the end of the list\n",
    "'''\n",
    "my_list = [1, 10, 100, 1500]\n",
    "my_nb = 10\n",
    "\n",
    "my_list.append(my_nb)\n",
    "print(my_list)"
   ]
  },
  {
   "cell_type": "code",
   "execution_count": 77,
   "metadata": {},
   "outputs": [
    {
     "name": "stdout",
     "output_type": "stream",
     "text": [
      "[10, 1, 10, 100, 1500]\n"
     ]
    }
   ],
   "source": [
    "'''\n",
    "add my_nb to the beginning of the list\n",
    "'''\n",
    "my_list = [1, 10, 100, 1500]\n",
    "my_nb = 10\n",
    "\n",
    "my_list.insert(0,my_nb)\n",
    "print(my_list)"
   ]
  },
  {
   "cell_type": "code",
   "execution_count": 81,
   "metadata": {},
   "outputs": [
    {
     "name": "stdout",
     "output_type": "stream",
     "text": [
      "alexi\n"
     ]
    }
   ],
   "source": [
    "'''\n",
    "concatenate all elements in a list into a string and return it\n",
    "'''\n",
    "my_list = ['a', 'l', 'e', 'x', 'i']\n",
    "\n",
    "my_str = \"\"\n",
    "for i in my_list:\n",
    "    my_str += i\n",
    "\n",
    "print(my_str)"
   ]
  },
  {
   "cell_type": "code",
   "execution_count": 101,
   "metadata": {},
   "outputs": [
    {
     "name": "stdout",
     "output_type": "stream",
     "text": [
      "nt\n",
      "Windows-10-10.0.19041-SP0\n",
      "10\n"
     ]
    }
   ],
   "source": [
    "'''\n",
    "get OS name, platform and release information.\n",
    "use package os\n",
    "'''\n",
    "import os\n",
    "import platform\n",
    "\n",
    "print(os.name)\n",
    "print(platform.platform())\n",
    "print(platform.release())"
   ]
  },
  {
   "cell_type": "code",
   "execution_count": 4,
   "metadata": {},
   "outputs": [
    {
     "data": {
      "text/plain": [
       "'192.168.43.91'"
      ]
     },
     "execution_count": 4,
     "metadata": {},
     "output_type": "execute_result"
    }
   ],
   "source": [
    "'''\n",
    "find and print your IP addresses\n",
    "'''\n",
    "import socket\n",
    "socket.gethostbyname(socket.gethostname())"
   ]
  },
  {
   "cell_type": "code",
   "execution_count": 5,
   "metadata": {},
   "outputs": [
    {
     "name": "stdout",
     "output_type": "stream",
     "text": [
      "E:\\Formation Simplon\\jupyter\\python\n"
     ]
    }
   ],
   "source": [
    "'''\n",
    "get an absolute file path\n",
    "'''\n",
    "import os\n",
    "abs_path = os.path.abspath(\"python/\")\n",
    "print(abs_path)"
   ]
  },
  {
   "cell_type": "code",
   "execution_count": 11,
   "metadata": {},
   "outputs": [
    {
     "name": "stdout",
     "output_type": "stream",
     "text": [
      "True\n"
     ]
    }
   ],
   "source": [
    "'''\n",
    "test whether all numbers of a list is greater than a certain number\n",
    "'''\n",
    "\n",
    "my_nb = 0\n",
    "my_list = [1, 10, 100, 1500]\n",
    "\n",
    "is_greater = True\n",
    "for i in my_list:\n",
    "    is_greater &= i > my_nb\n",
    "print(is_greater)"
   ]
  },
  {
   "cell_type": "code",
   "execution_count": null,
   "metadata": {},
   "outputs": [],
   "source": []
  },
  {
   "cell_type": "code",
   "execution_count": null,
   "metadata": {},
   "outputs": [],
   "source": []
  },
  {
   "cell_type": "code",
   "execution_count": null,
   "metadata": {},
   "outputs": [],
   "source": []
  }
 ],
 "metadata": {
  "kernelspec": {
   "display_name": "Python 3",
   "language": "python",
   "name": "python3"
  },
  "language_info": {
   "codemirror_mode": {
    "name": "ipython",
    "version": 3
   },
   "file_extension": ".py",
   "mimetype": "text/x-python",
   "name": "python",
   "nbconvert_exporter": "python",
   "pygments_lexer": "ipython3",
   "version": "3.8.5"
  }
 },
 "nbformat": 4,
 "nbformat_minor": 2
}
