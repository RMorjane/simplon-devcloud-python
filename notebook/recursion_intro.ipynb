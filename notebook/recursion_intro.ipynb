{
 "cells": [
  {
   "cell_type": "code",
   "execution_count": 49,
   "metadata": {},
   "outputs": [
    {
     "name": "stdout",
     "output_type": "stream",
     "text": [
      "55\n"
     ]
    }
   ],
   "source": [
    "'''\n",
    "We can define the sum from 1 to x (i.e. 1 + 2 + ... + x)\n",
    "recursively as follows for integer x ≥ 1:\n",
    "1, if x = 1\n",
    "x + sum from 1 to x-1 if x > 1\n",
    "Complete the following Python program to compute the sum\n",
    "1 + 2 + 3 + 4 + 5 + 6 + 7 + 8 + 9 + 10 recursively\n",
    "'''\n",
    "def somme(x):\n",
    "    if x > 0:\n",
    "        return x + somme(x - 1)\n",
    "    else:\n",
    "        return x\n",
    "    \n",
    "print(somme(10))"
   ]
  },
  {
   "cell_type": "code",
   "execution_count": 17,
   "metadata": {},
   "outputs": [
    {
     "name": "stdout",
     "output_type": "stream",
     "text": [
      "3\n"
     ]
    }
   ],
   "source": [
    "'''\n",
    "We can determine how many digits a positive integer has by\n",
    "repeatedly dividing by 10 (without keeping the remainder) until the\n",
    "number is less than 10, consisting of only 1 digit. We add 1 to this\n",
    "value for each time we divided by 10. Here is the recursive\n",
    "algorithm\n",
    "1. If n < 10 return 1.\n",
    "2. Otherwise, return 1 + the number of digits in\n",
    "n/10 (ignoring the fractional part).\n",
    "\n",
    "Implement this recursive algorithm in Python\n",
    "'''\n",
    "def count_digits(n):\n",
    "    n = n // 10\n",
    "    if n < 10:\n",
    "        return 1\n",
    "    else:\n",
    "        return 1 + count_digits(n)\n",
    "    \n",
    "print(count_digits(2500))"
   ]
  },
  {
   "cell_type": "code",
   "execution_count": 19,
   "metadata": {},
   "outputs": [
    {
     "name": "stdout",
     "output_type": "stream",
     "text": [
      "0 1 2 0 3 0 1 "
     ]
    }
   ],
   "source": [
    "'''\n",
    "same here\n",
    "\n",
    "def fun(x):\n",
    "     \n",
    "    if(x > 0):\n",
    "        x -= 1\n",
    "        fun(x) \n",
    "        print(x , end=\" \")\n",
    "        x -= 1\n",
    "        fun(x) \n",
    "        \n",
    "'''\n",
    "def fun(x):\n",
    "     \n",
    "    if(x > 0):\n",
    "        x -= 1\n",
    "        fun(x) \n",
    "        print(x , end=\" \")\n",
    "        x -= 1\n",
    "        fun(x)\n",
    "        \n",
    "fun(4)"
   ]
  },
  {
   "cell_type": "code",
   "execution_count": 36,
   "metadata": {},
   "outputs": [
    {
     "name": "stdout",
     "output_type": "stream",
     "text": [
      "120\n"
     ]
    }
   ],
   "source": [
    "'''\n",
    "Write a Python program to get the factorial of a non-negative integer\n",
    "\n",
    "factoriel(n) = n * (n - 1) * (n - 2) * .. * 1\n",
    "'''\n",
    "def factoriel(n):\n",
    "    if n > 1:\n",
    "        return n * factoriel(n - 1)\n",
    "    elif n == 1:\n",
    "        return 1\n",
    "    \n",
    "print(factoriel(5))"
   ]
  },
  {
   "cell_type": "code",
   "execution_count": 46,
   "metadata": {},
   "outputs": [
    {
     "name": "stdout",
     "output_type": "stream",
     "text": [
      "[0, 1, 1, 2, 3, 5, 8, 13, 21, 34, 55, 89, 144, 233, 377, 610, 987]\n"
     ]
    }
   ],
   "source": [
    "'''\n",
    "Write a Python program to solve the Fibonacci sequence using recursion\n",
    "'''\n",
    "def fibonacci(n):\n",
    "    if n > 1:\n",
    "        somme = fibonacci(n - 1) + fibonacci(n - 2)\n",
    "        return somme\n",
    "    else:\n",
    "        return n\n",
    "\n",
    "suite = [fibonacci(i) for i in range(17)]\n",
    "print(suite)"
   ]
  },
  {
   "cell_type": "code",
   "execution_count": 47,
   "metadata": {},
   "outputs": [
    {
     "name": "stdout",
     "output_type": "stream",
     "text": [
      "30\n"
     ]
    }
   ],
   "source": [
    "'''\n",
    "Write a Python program to calculate the sum of the positive integers of n+(n-2)+(n-4)... (until n-x =< 0)\n",
    "'''\n",
    "def somme(n):\n",
    "    if n > 0:\n",
    "        return n + somme(n - 2)\n",
    "    else:\n",
    "        return n\n",
    "\n",
    "print(somme(10))"
   ]
  },
  {
   "cell_type": "code",
   "execution_count": null,
   "metadata": {},
   "outputs": [],
   "source": []
  },
  {
   "cell_type": "code",
   "execution_count": null,
   "metadata": {},
   "outputs": [],
   "source": []
  },
  {
   "cell_type": "code",
   "execution_count": null,
   "metadata": {},
   "outputs": [],
   "source": []
  }
 ],
 "metadata": {
  "kernelspec": {
   "display_name": "Python 3",
   "language": "python",
   "name": "python3"
  },
  "language_info": {
   "codemirror_mode": {
    "name": "ipython",
    "version": 3
   },
   "file_extension": ".py",
   "mimetype": "text/x-python",
   "name": "python",
   "nbconvert_exporter": "python",
   "pygments_lexer": "ipython3",
   "version": "3.8.5"
  }
 },
 "nbformat": 4,
 "nbformat_minor": 2
}
