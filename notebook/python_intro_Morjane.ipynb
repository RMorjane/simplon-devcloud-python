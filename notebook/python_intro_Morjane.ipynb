{
 "cells": [
  {
   "cell_type": "code",
   "execution_count": 69,
   "metadata": {},
   "outputs": [
    {
     "data": {
      "text/plain": [
       "False"
      ]
     },
     "execution_count": 69,
     "metadata": {},
     "output_type": "execute_result"
    }
   ],
   "source": [
    "'''\n",
    "Given a two numbers, check if they are equals\n",
    "'''\n",
    "number1 = 20\n",
    "number2 = 30\n",
    "\n",
    "print(number1 == number2)\n",
    "\n"
   ]
  },
  {
   "cell_type": "code",
   "execution_count": 8,
   "metadata": {},
   "outputs": [
    {
     "name": "stdout",
     "output_type": "stream",
     "text": [
      "600\n"
     ]
    }
   ],
   "source": [
    "'''\n",
    "Given a two numbers return their product\n",
    "'''\n",
    "\n",
    "number1 = 20\n",
    "number2 = 30\n",
    "\n",
    "print(number1 * number2)\n"
   ]
  },
  {
   "cell_type": "code",
   "execution_count": 12,
   "metadata": {},
   "outputs": [
    {
     "name": "stdout",
     "output_type": "stream",
     "text": [
      "230\n"
     ]
    }
   ],
   "source": [
    "'''\n",
    "And if the product is greater than 1000, then return their sum\n",
    "'''\n",
    "\n",
    "number1 = 200\n",
    "number2 = 30\n",
    "\n",
    "product = number1 * number2\n",
    "\n",
    "if product > 1000: print(number1 + number2)"
   ]
  },
  {
   "cell_type": "code",
   "execution_count": 70,
   "metadata": {},
   "outputs": [
    {
     "name": "stdout",
     "output_type": "stream",
     "text": [
      "This is an odd number\n"
     ]
    }
   ],
   "source": [
    "'''\n",
    "Depending on whether the number is even or odd, print out an appropriate message: use \"if\"\n",
    "'''\n",
    "\n",
    "my_number = 11\n",
    "\n",
    "mod = my_number % 2\n",
    "\n",
    "if mod > 0:\n",
    "    print(\"This is an odd number\")\n",
    "else:\n",
    "    print(\"This is an even number\")\n"
   ]
  },
  {
   "cell_type": "code",
   "execution_count": 71,
   "metadata": {},
   "outputs": [
    {
     "name": "stdout",
     "output_type": "stream",
     "text": [
      "3  X  1  =  3\n",
      "3  X  2  =  6\n",
      "3  X  3  =  9\n",
      "3  X  4  =  12\n",
      "3  X  5  =  15\n",
      "3  X  6  =  18\n",
      "3  X  7  =  21\n",
      "3  X  8  =  24\n",
      "3  X  9  =  27\n",
      "3  X  10  =  30\n"
     ]
    }
   ],
   "source": [
    "'''\n",
    "Print multiplication table of given number: use \"for\" loop\n",
    "'''\n",
    "\n",
    "my_number = 3\n",
    "\n",
    "for i in range(1,11):\n",
    "    print(my_number,\" X \",i,\" = \",my_number * i)\n"
   ]
  },
  {
   "cell_type": "code",
   "execution_count": 27,
   "metadata": {},
   "outputs": [
    {
     "name": "stdout",
     "output_type": "stream",
     "text": [
      "True\n"
     ]
    }
   ],
   "source": [
    "'''\n",
    "Given a list of numbers, return True if first and last number of a list is same\n",
    "'''\n",
    "\n",
    "my_list = [1, 2, 4, 1]\n",
    "\n",
    "print(my_list[0]==my_list[len(my_list)-1])\n"
   ]
  },
  {
   "cell_type": "code",
   "execution_count": 75,
   "metadata": {},
   "outputs": [
    {
     "name": "stdout",
     "output_type": "stream",
     "text": [
      "[4, 16]\n"
     ]
    }
   ],
   "source": [
    "'''\n",
    "Given a list turn every item of a list into its square\n",
    "'''\n",
    "\n",
    "my_list = [1, 2, 4, 1]\n",
    "my_square = [number ** 2 for number in my_list if number > 1]\n",
    "\n",
    "#for number in my_list:\n",
    "    #my_square.append(number ** 2)\n",
    "    \n",
    "print(my_square)\n"
   ]
  },
  {
   "cell_type": "code",
   "execution_count": 76,
   "metadata": {},
   "outputs": [
    {
     "name": "stdout",
     "output_type": "stream",
     "text": [
      "[15, 20, 100, 10000, 5, 10]\n"
     ]
    }
   ],
   "source": [
    "'''\n",
    "Given a list iterate it and display numbers which are divisible by 5 \n",
    "'''\n",
    "\n",
    "my_list = [1, 15, 4, 20, 22, 100, 10000, 5, 10]\n",
    "my_five_list = [number for number in my_list if number % 5 == 0]\n",
    "\n",
    "#for i in my_list:\n",
    "    #if (i % 5)==0: print(i)\n",
    "    \n",
    "print(my_five_list)"
   ]
  },
  {
   "cell_type": "code",
   "execution_count": 82,
   "metadata": {},
   "outputs": [
    {
     "name": "stdout",
     "output_type": "stream",
     "text": [
      "1\n",
      "15\n",
      "4\n",
      "20\n",
      "22\n",
      "100\n"
     ]
    }
   ],
   "source": [
    "'''\n",
    "change the loop so that if you find number greater than 150 stop the loop iteration\n",
    "'''\n",
    "\n",
    "my_list = [1, 15, 4, 20, 22, 100, 10000, 5, 10]\n",
    "\n",
    "for number in my_list:\n",
    "    if number > 150:\n",
    "        break\n",
    "    print(number)"
   ]
  },
  {
   "cell_type": "code",
   "execution_count": 83,
   "metadata": {},
   "outputs": [
    {
     "name": "stdout",
     "output_type": "stream",
     "text": [
      "\n",
      "1 \n",
      "2 2 \n",
      "3 3 3 \n",
      "4 4 4 4 \n",
      "5 5 5 5 5 \n"
     ]
    }
   ],
   "source": [
    "'''\n",
    "Return the following pattern\n",
    "1 \n",
    "2 2 \n",
    "3 3 3 \n",
    "4 4 4 4 \n",
    "5 5 5 5 5\n",
    "'''\n",
    "\n",
    "for i in range(6):\n",
    "    line = \"\"\n",
    "    for _ in range(i): \n",
    "        line = line + \"{}\".format(i) + \" \"\n",
    "    print(line)"
   ]
  },
  {
   "cell_type": "code",
   "execution_count": 58,
   "metadata": {},
   "outputs": [
    {
     "name": "stdout",
     "output_type": "stream",
     "text": [
      "[1, 4, 2, 1]\n"
     ]
    }
   ],
   "source": [
    "'''\n",
    "Given a list, return its elements in reverse order\n",
    "'''\n",
    "\n",
    "my_list = [1, 2, 4, 1]\n",
    "\n",
    "my_list.reverse()\n",
    "print(my_list)\n"
   ]
  },
  {
   "cell_type": "code",
   "execution_count": 61,
   "metadata": {},
   "outputs": [
    {
     "name": "stdout",
     "output_type": "stream",
     "text": [
      "hello world\n"
     ]
    }
   ],
   "source": [
    "'''\n",
    "Given 2 strings create a new string by appending s2 at the end of s1\n",
    "'''\n",
    "\n",
    "my_str1 = 'hello'\n",
    "my_str2 = 'world'\n",
    "\n",
    "print(my_str1 + \" \" + my_str2)\n"
   ]
  },
  {
   "cell_type": "code",
   "execution_count": null,
   "metadata": {},
   "outputs": [],
   "source": [
    "'''\n",
    "And add '.' between them\n",
    "'''\n",
    "\n",
    "my_str1 = 'hello'\n",
    "my_str2 = 'world'\n",
    "\n"
   ]
  },
  {
   "cell_type": "code",
   "execution_count": 62,
   "metadata": {},
   "outputs": [
    {
     "name": "stdout",
     "output_type": "stream",
     "text": [
      "['hello', 'world', 'hello', 'good', 'morning']\n"
     ]
    }
   ],
   "source": [
    "'''\n",
    "Remove empty strings from the list of strings\n",
    "'''\n",
    "\n",
    "my_list = ['hello', '', 'world', 'hello', 'good', 'morning']\n",
    "\n",
    "while(\"\" in my_list): my_list.remove(\"\")\n",
    "print(my_list)\n"
   ]
  },
  {
   "cell_type": "code",
   "execution_count": 68,
   "metadata": {},
   "outputs": [
    {
     "name": "stdout",
     "output_type": "stream",
     "text": [
      "The total count of the word hello is  2\n"
     ]
    }
   ],
   "source": [
    "'''\n",
    "Return the total count of the word 'hello' in the list\n",
    "'''\n",
    "\n",
    "my_list = ['hello', '', 'world', 'hello', 'good', '', 'morning']\n",
    "\n",
    "count = 0\n",
    "for word in my_list:\n",
    "    if word == 'hello': count = count + 1\n",
    "        \n",
    "print(\"The total count of the word hello is \",count)\n"
   ]
  },
  {
   "cell_type": "code",
   "execution_count": null,
   "metadata": {},
   "outputs": [],
   "source": []
  },
  {
   "cell_type": "code",
   "execution_count": null,
   "metadata": {},
   "outputs": [],
   "source": []
  },
  {
   "cell_type": "code",
   "execution_count": null,
   "metadata": {},
   "outputs": [],
   "source": []
  },
  {
   "cell_type": "code",
   "execution_count": null,
   "metadata": {},
   "outputs": [],
   "source": []
  },
  {
   "cell_type": "code",
   "execution_count": null,
   "metadata": {},
   "outputs": [],
   "source": []
  },
  {
   "cell_type": "code",
   "execution_count": null,
   "metadata": {},
   "outputs": [],
   "source": []
  },
  {
   "cell_type": "code",
   "execution_count": null,
   "metadata": {},
   "outputs": [],
   "source": []
  }
 ],
 "metadata": {
  "kernelspec": {
   "display_name": "Python 3",
   "language": "python",
   "name": "python3"
  },
  "language_info": {
   "codemirror_mode": {
    "name": "ipython",
    "version": 3
   },
   "file_extension": ".py",
   "mimetype": "text/x-python",
   "name": "python",
   "nbconvert_exporter": "python",
   "pygments_lexer": "ipython3",
   "version": "3.8.5"
  }
 },
 "nbformat": 4,
 "nbformat_minor": 2
}
